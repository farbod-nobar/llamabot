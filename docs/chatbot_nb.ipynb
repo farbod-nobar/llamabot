{
 "cells": [
  {
   "attachments": {},
   "cell_type": "markdown",
   "metadata": {
    "keep_output": true
   },
   "source": [
    "# ChatBots in a Jupyter Notebook"
   ]
  },
  {
   "attachments": {},
   "cell_type": "markdown",
   "metadata": {
    "keep_output": true
   },
   "source": [
    "Let's see how to use the ChatBot class to enable you to chat with GPT-4 inside a Jupyter notebook."
   ]
  },
  {
   "cell_type": "code",
   "execution_count": 1,
   "metadata": {
    "keep_output": true
   },
   "outputs": [],
   "source": [
    "from llamabot import ChatBot\n",
    "\n",
    "jayz = ChatBot(\"You are a scientist and read scientific journal abstracts. Then you summarize the abstract in 3 sentences with easier to understand language.\")\n"
   ]
  },
  {
   "cell_type": "code",
   "execution_count": 2,
   "metadata": {
    "keep_output": true
   },
   "outputs": [
    {
     "data": {
      "text/plain": [
       "'Hello! Please provide a scientific journal abstract for me to summarize.'"
      ]
     },
     "execution_count": 2,
     "metadata": {},
     "output_type": "execute_result"
    }
   ],
   "source": [
    "jayz(\"Hi there!\")"
   ]
  },
  {
   "cell_type": "code",
   "execution_count": 4,
   "metadata": {
    "keep_output": true
   },
   "outputs": [
    {
     "data": {
      "text/plain": [
       "'Protein ubiquitylation is a crucial process in many biological functions and can be a target for treating various diseases. Traditional methods for identifying these sites are time-consuming and expensive. This study proposes a new approach using a hybrid deep learning model, which combines a convolutional neural network and long short-term memory, to predict plant ubiquitylation sites more efficiently and accurately. The model uses protein sequences and physicochemical properties as inputs and outperforms other popular predictors in classification results.'"
      ]
     },
     "execution_count": 4,
     "metadata": {},
     "output_type": "execute_result"
    }
   ],
   "source": [
    "jayz(\"\"\"Protein ubiquitylation is an essential post-translational modification process that performs a critical role in a wide range of biological functions, \n",
    "     even a degenerative role in certain diseases, and is consequently used as a promising target for the treatment of various diseases. Owing to the significant \n",
    "     role of protein ubiquitylation, these sites can be identified by enzymatic approaches, mass spectrometry analysis, and combinations of multidimensional liquid \n",
    "     chromatography and tandem mass spectrometry. However, these large-scale experimental screening techniques are time consuming, expensive, and laborious. To overcome \n",
    "     the drawbacks of experimental methods, machine learning and deep learning-based predictors were considered for prediction in a timely and cost-effective manner. \n",
    "     In the literature, several computational predictors have been published across species; however, predictors are species-specific because of the unclear patterns in\n",
    "    different species. In this study, we proposed a novel approach for predicting plant ubiquitylation sites using a hybrid deep learning model by utilizing \n",
    "    convolutional neural network and long short-term memory. The proposed method uses the actual protein sequence and physicochemical properties as inputs to \n",
    "    the model and provides more robust predictions. The proposed predictor achieved the best result with accuracy values of 80% and 81% and F-scores of 79% and 82% on the\n",
    "    10-fold cross-validation and an independent dataset, respectively. Moreover, we also compared the testing of the independent dataset with popular ubiquitylation predictors; \n",
    "    the results demonstrate that our model significantly outperforms the other methods in prediction classification results.\"\"\")"
   ]
  },
  {
   "attachments": {},
   "cell_type": "markdown",
   "metadata": {
    "keep_output": true
   },
   "source": [
    "As you can see, ChatBot keeps track of conversation memory/history automatically.\n",
    "We can even access any item in the conversation by looking at the conversation history."
   ]
  },
  {
   "attachments": {},
   "cell_type": "markdown",
   "metadata": {
    "keep_output": true
   },
   "source": [
    "The `__repr__` of a chatbot will simply print out the entire history:"
   ]
  },
  {
   "cell_type": "code",
   "execution_count": 5,
   "metadata": {
    "keep_output": true
   },
   "outputs": [
    {
     "data": {
      "text/plain": [
       "[System]\n",
       "You are a scientist and read scientific journal abstracts. Then you summarize the abstract in 3 sentences with easier to understand language.\n",
       "\n",
       "[Human]\n",
       "Hi there!\n",
       "\n",
       "[AI]\n",
       "Hello! Please provide a scientific journal abstract for me to summarize.\n",
       "\n",
       "[Human]\n",
       "I'm going to go into a rap battle shortly and need some lyrics to dig around with. Can you shoot over some starter material?\n",
       "\n",
       "[AI]\n",
       "I apologize, but I need a scientific journal abstract to summarize. Please provide an abstract, and I'll be happy to help. If you need assistance with rap lyrics, feel free to ask, and I can help with that separately.\n",
       "\n",
       "[Human]\n",
       "Protein ubiquitylation is an essential post-translational modification process that performs a critical role in a wide range of biological functions, even a degenerative role in certain diseases, and is consequently used as a promising target for the treatment of various diseases. Owing to the significant role of protein ubiquitylation, these sites can be identified by enzymatic approaches, mass spectrometry analysis, and combinations of multidimensional liquid chromatography and tandem mass spectrometry. However, these large-scale experimental screening techniques are time consuming, expensive, and laborious. To overcome the drawbacks of experimental methods, machine learning and deep learning-based predictors were considered for prediction in a timely and cost-effective manner. In the literature, several computational predictors have been published across species; however, predictors are species-specific because of the unclear patterns in different species. In this study, we proposed a novel approach for predicting plant ubiquitylation sites using a hybrid deep learning model by utilizing convolutional neural network and long short-term memory. The proposed method uses the actual protein sequence and physicochemical properties as inputs to the model and provides more robust predictions. The proposed predictor achieved the best result with accuracy values of 80% and 81% and F-scores of 79% and 82% on the 10-fold cross-validation and an independent dataset, respectively. Moreover, we also compared the testing of the independent dataset with popular ubiquitylation predictors; the results demonstrate that our model significantly outperforms the other methods in prediction classification results.\n",
       "\n",
       "[AI]\n",
       "Protein ubiquitylation is a crucial process in many biological functions and can be a target for treating various diseases. Traditional methods for identifying these sites are time-consuming and expensive. This study proposes a new approach using a hybrid deep learning model, which combines a convolutional neural network and long short-term memory, to predict plant ubiquitylation sites more efficiently and accurately. The model uses protein sequences and physicochemical properties as inputs and outperforms other popular predictors in classification results.\n"
      ]
     },
     "execution_count": 5,
     "metadata": {},
     "output_type": "execute_result"
    }
   ],
   "source": [
    "jayz"
   ]
  },
  {
   "attachments": {},
   "cell_type": "markdown",
   "metadata": {
    "keep_output": true
   },
   "source": [
    "On the other hand, accessing the `.chat_history` attribute of the ChatBot will give you access to all of the messages inside the conversation."
   ]
  },
  {
   "cell_type": "code",
   "execution_count": 8,
   "metadata": {
    "keep_output": true
   },
   "outputs": [
    {
     "data": {
      "text/plain": [
       "[SystemMessage(content='You are a scientist and read scientific journal abstracts. Then you summarize the abstract in 3 sentences with easier to understand language.', additional_kwargs={}),\n",
       " HumanMessage(content='Hi there!', additional_kwargs={}),\n",
       " AIMessage(content='Hello! Please provide a scientific journal abstract for me to summarize.', additional_kwargs={}),\n",
       " HumanMessage(content=\"I'm going to go into a rap battle shortly and need some lyrics to dig around with. Can you shoot over some starter material?\", additional_kwargs={}),\n",
       " AIMessage(content=\"I apologize, but I need a scientific journal abstract to summarize. Please provide an abstract, and I'll be happy to help. If you need assistance with rap lyrics, feel free to ask, and I can help with that separately.\", additional_kwargs={}),\n",
       " HumanMessage(content='Protein ubiquitylation is an essential post-translational modification process that performs a critical role in a wide range of biological functions, even a degenerative role in certain diseases, and is consequently used as a promising target for the treatment of various diseases. Owing to the significant role of protein ubiquitylation, these sites can be identified by enzymatic approaches, mass spectrometry analysis, and combinations of multidimensional liquid chromatography and tandem mass spectrometry. However, these large-scale experimental screening techniques are time consuming, expensive, and laborious. To overcome the drawbacks of experimental methods, machine learning and deep learning-based predictors were considered for prediction in a timely and cost-effective manner. In the literature, several computational predictors have been published across species; however, predictors are species-specific because of the unclear patterns in different species. In this study, we proposed a novel approach for predicting plant ubiquitylation sites using a hybrid deep learning model by utilizing convolutional neural network and long short-term memory. The proposed method uses the actual protein sequence and physicochemical properties as inputs to the model and provides more robust predictions. The proposed predictor achieved the best result with accuracy values of 80% and 81% and F-scores of 79% and 82% on the 10-fold cross-validation and an independent dataset, respectively. Moreover, we also compared the testing of the independent dataset with popular ubiquitylation predictors; the results demonstrate that our model significantly outperforms the other methods in prediction classification results.', additional_kwargs={}),\n",
       " AIMessage(content='Protein ubiquitylation is a crucial process in many biological functions and can be a target for treating various diseases. Traditional methods for identifying these sites are time-consuming and expensive. This study proposes a new approach using a hybrid deep learning model, which combines a convolutional neural network and long short-term memory, to predict plant ubiquitylation sites more efficiently and accurately. The model uses protein sequences and physicochemical properties as inputs and outperforms other popular predictors in classification results.', additional_kwargs={})]"
      ]
     },
     "execution_count": 8,
     "metadata": {},
     "output_type": "execute_result"
    }
   ],
   "source": [
    "jayz.chat_history"
   ]
  },
  {
   "attachments": {},
   "cell_type": "markdown",
   "metadata": {
    "keep_output": true
   },
   "source": [
    "You can even access any arbitrary message."
   ]
  },
  {
   "cell_type": "code",
   "execution_count": 9,
   "metadata": {
    "keep_output": true
   },
   "outputs": [
    {
     "name": "stdout",
     "output_type": "stream",
     "text": [
      "Protein ubiquitylation is a crucial process in many biological functions and can be a target for treating various diseases. Traditional methods for identifying these sites are time-consuming and expensive. This study proposes a new approach using a hybrid deep learning model, which combines a convolutional neural network and long short-term memory, to predict plant ubiquitylation sites more efficiently and accurately. The model uses protein sequences and physicochemical properties as inputs and outperforms other popular predictors in classification results.\n"
     ]
    }
   ],
   "source": [
    "print(jayz.chat_history[-1].content)"
   ]
  },
  {
   "cell_type": "code",
   "execution_count": null,
   "metadata": {},
   "outputs": [],
   "source": []
  }
 ],
 "metadata": {
  "kernelspec": {
   "display_name": "llamabot",
   "language": "python",
   "name": "python3"
  },
  "language_info": {
   "codemirror_mode": {
    "name": "ipython",
    "version": 3
   },
   "file_extension": ".py",
   "mimetype": "text/x-python",
   "name": "python",
   "nbconvert_exporter": "python",
   "pygments_lexer": "ipython3",
   "version": "3.9.16"
  }
 },
 "nbformat": 4,
 "nbformat_minor": 2
}
